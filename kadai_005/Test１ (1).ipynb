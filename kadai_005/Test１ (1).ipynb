{
  "nbformat": 4,
  "nbformat_minor": 0,
  "metadata": {
    "colab": {
      "provenance": [],
      "toc_visible": true
    },
    "kernelspec": {
      "name": "python3",
      "display_name": "Python 3"
    },
    "language_info": {
      "name": "python"
    }
  },
  "cells": [
    {
      "cell_type": "code",
      "source": [
        "# 台形の面積を計算するためのPythonコード\n",
        "\n",
        "# 与えられた値\n",
        "top_base = 10  # 上辺 (cm)\n",
        "bottom_base = 20  # 下辺 (cm)\n",
        "height = 5  # 高さ (cm)\n",
        "\n",
        "# 台形の面積の公式\n",
        "area = (top_base + bottom_base) * height / 2\n",
        "\n",
        "# 結果の表示\n",
        "print(f\"{area} ㎠\")"
      ],
      "metadata": {
        "colab": {
          "base_uri": "https://localhost:8080/"
        },
        "id": "CIWM3SHNnxkb",
        "outputId": "8e78738a-5161-4c55-eaa1-230a22978ef5"
      },
      "execution_count": 2,
      "outputs": [
        {
          "output_type": "stream",
          "name": "stdout",
          "text": [
            "75.0 ㎠\n"
          ]
        }
      ]
    }
  ]
}