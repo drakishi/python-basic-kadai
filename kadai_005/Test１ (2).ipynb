{
  "nbformat": 4,
  "nbformat_minor": 0,
  "metadata": {
    "colab": {
      "provenance": [],
      "toc_visible": true
    },
    "kernelspec": {
      "name": "python3",
      "display_name": "Python 3"
    },
    "language_info": {
      "name": "python"
    }
  },
  "cells": [
    {
      "cell_type": "code",
      "source": [
        "# 台形の面積を計算するためのPythonコード\n",
        "\n",
        "# 与えられた値\n",
        "top_base = 10  # 上辺 (cm)\n",
        "bottom_base = 20  # 下辺 (cm)\n",
        "height = 5  # 高さ (cm)\n",
        "\n",
        "# 台形の面積の公式\n",
        "area = (top_base + bottom_base) * height / 2\n",
        "\n",
        "# 結果の表示\n",
        "print(f\"{area} cm²\")"
      ],
      "metadata": {
        "colab": {
          "base_uri": "https://localhost:8080/"
        },
        "id": "CIWM3SHNnxkb",
        "outputId": "0ec61f5a-91b4-4aea-a459-d45e29dd9c9f"
      },
      "execution_count": 1,
      "outputs": [
        {
          "output_type": "stream",
          "name": "stdout",
          "text": [
            "75.0 cm²\n"
          ]
        }
      ]
    }
  ]
}