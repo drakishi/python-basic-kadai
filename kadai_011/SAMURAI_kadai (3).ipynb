{
  "nbformat": 4,
  "nbformat_minor": 0,
  "metadata": {
    "colab": {
      "provenance": []
    },
    "kernelspec": {
      "name": "python3",
      "display_name": "Python 3"
    },
    "language_info": {
      "name": "python"
    }
  },
  "cells": [
    {
      "cell_type": "code",
      "source": [
        "array = [\"水\", \"金\", \"地\", \"火\", \"木\", \"土\", \"天\", \"海\", \"冥\"]\n",
        "repeated_array = []\n",
        "\n",
        "count = 0\n",
        "while count < 2:  # 2回繰り返す\n",
        "    for item in array:\n",
        "        repeated_array.append(item)\n",
        "    count += 1  # 回数をカウント\n",
        "\n",
        "print(repeated_array)"
      ],
      "metadata": {
        "id": "q7mJ6MlmQ9tO"
      },
      "execution_count": null,
      "outputs": []
    }
  ]
}